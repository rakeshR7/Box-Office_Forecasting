{
 "cells": [
  {
   "cell_type": "code",
   "execution_count": 73,
   "metadata": {},
   "outputs": [],
   "source": [
    "import pandas as pd\n",
    "import math\n",
    "import openpyxl\n",
    "import xlsxwriter"
   ]
  },
  {
   "cell_type": "code",
   "execution_count": 74,
   "metadata": {},
   "outputs": [],
   "source": [
    "df = pd.read_excel('IAC4-data_train.xlsx')\n",
    "\n",
    "\n"
   ]
  },
  {
   "cell_type": "code",
   "execution_count": 75,
   "metadata": {},
   "outputs": [],
   "source": [
    "actors = set()\n",
    "for index,row in df.iterrows():\n",
    "    y= row['actors']\n",
    "    if(pd.notnull(y)):\n",
    "        x= y.split(',')\n",
    "        actors.update(list(x))\n",
    "    \n"
   ]
  },
  {
   "cell_type": "code",
   "execution_count": 76,
   "metadata": {},
   "outputs": [],
   "source": [
    "actors1 = dict.fromkeys(actors, 0)\n",
    "\n",
    "for index,row in df.iterrows():\n",
    "    y = row['actors']\n",
    "    if(pd.notnull(y)):\n",
    "        a= y.split(',')\n",
    "        for i in range(len(a)):\n",
    "            actors1[a[i]] += row['Net Gross']\n",
    "            "
   ]
  },
  {
   "cell_type": "code",
   "execution_count": 77,
   "metadata": {},
   "outputs": [],
   "source": [
    "for index,row in df.iterrows():\n",
    "    sum = 0\n",
    "    y = row['actors']\n",
    "    if(pd.notnull(y)):\n",
    "        a = y.split(',')\n",
    "        for i in range(len(a)):\n",
    "            sum = sum+actors1[a[i]]\n",
    "    df.loc[index,'actors']=sum"
   ]
  },
  {
   "cell_type": "code",
   "execution_count": 80,
   "metadata": {},
   "outputs": [
    {
     "data": {
      "text/plain": [
       "1325758732"
      ]
     },
     "execution_count": 80,
     "metadata": {},
     "output_type": "execute_result"
    }
   ],
   "source": [
    "actors1['Robert Downey Jr.']"
   ]
  },
  {
   "cell_type": "code",
   "execution_count": 81,
   "metadata": {},
   "outputs": [],
   "source": [
    "production = set()\n",
    "for index,row in df.iterrows():\n",
    "    y = row['production']\n",
    "    if(pd.notnull(y)):\n",
    "        a = y.split(',')\n",
    "        production.update(list(a))"
   ]
  },
  {
   "cell_type": "code",
   "execution_count": 82,
   "metadata": {},
   "outputs": [],
   "source": [
    "director = set()\n",
    "for index,row in df.iterrows():\n",
    "    y = row['director']\n",
    "    if(pd.notnull(y)):\n",
    "        a = y.split(',')\n",
    "        director.update(list(a))"
   ]
  },
  {
   "cell_type": "code",
   "execution_count": 83,
   "metadata": {},
   "outputs": [],
   "source": [
    "len(production)\n",
    "production1 = dict.fromkeys(production, 0)\n",
    "len(production1)\n",
    "for index,row in df.iterrows():\n",
    "    y = row['production']\n",
    "    if(pd.notnull(y)):\n",
    "        a= y.split(',')\n",
    "        for i in range(len(a)):\n",
    "            production1[a[i]] += row['Net Gross']\n",
    "            \n",
    "\n",
    "    "
   ]
  },
  {
   "cell_type": "code",
   "execution_count": 84,
   "metadata": {},
   "outputs": [],
   "source": [
    "director1 = dict.fromkeys(director, 0)\n",
    "\n",
    "for index,row in df.iterrows():\n",
    "    y = row['director']\n",
    "    if(pd.notnull(y)):\n",
    "        a= y.split(',')\n",
    "        for i in range(len(a)):\n",
    "            director1[a[i]] += row['Net Gross']\n",
    "            \n",
    "\n",
    "        "
   ]
  },
  {
   "cell_type": "code",
   "execution_count": 86,
   "metadata": {},
   "outputs": [],
   "source": [
    "for index,row in df.iterrows():\n",
    "    sum = 0\n",
    "    y = row['director']\n",
    "    if(pd.notnull(y)):\n",
    "        a = y.split(',')\n",
    "        for i in range(len(a)):\n",
    "            sum = sum+director1[a[i]]\n",
    "    df.loc[index,'director']=sum"
   ]
  },
  {
   "cell_type": "code",
   "execution_count": 87,
   "metadata": {},
   "outputs": [],
   "source": [
    "for index,row in df.iterrows():\n",
    "    sum = 0\n",
    "    y = row['production']\n",
    "    if(pd.notnull(y)):\n",
    "        a = y.split(',')\n",
    "        for i in range(len(a)):\n",
    "            sum = sum+production1[a[i]]\n",
    "    df.loc[index,'production']=sum"
   ]
  },
  {
   "cell_type": "code",
   "execution_count": 91,
   "metadata": {},
   "outputs": [
    {
     "data": {
      "text/plain": [
       "movie_id                                                              tt0195685\n",
       "title                                                           Erin Brockovich\n",
       "plot                          An unemployed single mother becomes a legal as...\n",
       "movie_rating                                                                  R\n",
       "movie_rating.1                                                              7.3\n",
       "metacritic                                                                   73\n",
       "dvd_release                                                 2000-08-15 00:00:00\n",
       "production                                                           5248432636\n",
       "actors                                                                411705292\n",
       "movie_votes                                                              144335\n",
       "director                                                              172561629\n",
       "release_date                                                2000-03-17 00:00:00\n",
       "runtime                                                                 131 min\n",
       "genre                                                          Biography, Drama\n",
       "awards                           Won 1 Oscar. Another 31 wins & 58 nominations.\n",
       "keywords                      environmental-issue|contamination|working-sing...\n",
       "Budget                                                                 52000000\n",
       "Box Office Gross                                                      125595205\n",
       "Net Gross                                                              73595205\n",
       "Budget After Inflation                                                7.384e+07\n",
       "Box Office After Inflation                                          1.78345e+08\n",
       "Net Gross After Inflation                                           1.04505e+08\n",
       "Gross Ratio                                                             2.41529\n",
       "Profit Class                                                                  3\n",
       "Name: 100, dtype: object"
      ]
     },
     "execution_count": 91,
     "metadata": {},
     "output_type": "execute_result"
    }
   ],
   "source": [
    "df.loc[100]"
   ]
  },
  {
   "cell_type": "code",
   "execution_count": 92,
   "metadata": {},
   "outputs": [],
   "source": [
    "df.to_excel('updated_test_train.xlsx')"
   ]
  },
  {
   "cell_type": "code",
   "execution_count": 97,
   "metadata": {},
   "outputs": [
    {
     "data": {
      "text/html": [
       "<div>\n",
       "<style scoped>\n",
       "    .dataframe tbody tr th:only-of-type {\n",
       "        vertical-align: middle;\n",
       "    }\n",
       "\n",
       "    .dataframe tbody tr th {\n",
       "        vertical-align: top;\n",
       "    }\n",
       "\n",
       "    .dataframe thead th {\n",
       "        text-align: right;\n",
       "    }\n",
       "</style>\n",
       "<table border=\"1\" class=\"dataframe\">\n",
       "  <thead>\n",
       "    <tr style=\"text-align: right;\">\n",
       "      <th></th>\n",
       "      <th>movie_id</th>\n",
       "      <th>title</th>\n",
       "      <th>plot</th>\n",
       "      <th>movie_rating</th>\n",
       "      <th>movie_rating.1</th>\n",
       "      <th>metacritic</th>\n",
       "      <th>dvd_release</th>\n",
       "      <th>production</th>\n",
       "      <th>actors</th>\n",
       "      <th>movie_votes</th>\n",
       "      <th>...</th>\n",
       "      <th>awards</th>\n",
       "      <th>keywords</th>\n",
       "      <th>Budget</th>\n",
       "      <th>Box Office Gross</th>\n",
       "      <th>Net Gross</th>\n",
       "      <th>Budget After Inflation</th>\n",
       "      <th>Box Office After Inflation</th>\n",
       "      <th>Net Gross After Inflation</th>\n",
       "      <th>Gross Ratio</th>\n",
       "      <th>Profit Class</th>\n",
       "    </tr>\n",
       "  </thead>\n",
       "  <tbody>\n",
       "    <tr>\n",
       "      <td>22</td>\n",
       "      <td>tt0120338</td>\n",
       "      <td>Titanic</td>\n",
       "      <td>A seventeen-year-old aristocrat falls in love ...</td>\n",
       "      <td>PG-13</td>\n",
       "      <td>7.7</td>\n",
       "      <td>74.0</td>\n",
       "      <td>2012-09-10</td>\n",
       "      <td>1864872971</td>\n",
       "      <td>2100725525</td>\n",
       "      <td>847267.0</td>\n",
       "      <td>...</td>\n",
       "      <td>Won 11 Oscars. Another 110 wins &amp; 74 nominations.</td>\n",
       "      <td>ship|iceberg|main-character-dies|one-word-titl...</td>\n",
       "      <td>200000000</td>\n",
       "      <td>658672302</td>\n",
       "      <td>458672302</td>\n",
       "      <td>306000000.0</td>\n",
       "      <td>1.007769e+09</td>\n",
       "      <td>7.017686e+08</td>\n",
       "      <td>3.293362</td>\n",
       "      <td>3.0</td>\n",
       "    </tr>\n",
       "  </tbody>\n",
       "</table>\n",
       "<p>1 rows × 24 columns</p>\n",
       "</div>"
      ],
      "text/plain": [
       "     movie_id    title                                               plot  \\\n",
       "22  tt0120338  Titanic  A seventeen-year-old aristocrat falls in love ...   \n",
       "\n",
       "   movie_rating  movie_rating.1  metacritic dvd_release  production  \\\n",
       "22        PG-13             7.7        74.0  2012-09-10  1864872971   \n",
       "\n",
       "        actors  movie_votes  ...  \\\n",
       "22  2100725525     847267.0  ...   \n",
       "\n",
       "                                               awards  \\\n",
       "22  Won 11 Oscars. Another 110 wins & 74 nominations.   \n",
       "\n",
       "                                             keywords     Budget  \\\n",
       "22  ship|iceberg|main-character-dies|one-word-titl...  200000000   \n",
       "\n",
       "   Box Office Gross  Net Gross Budget After Inflation  \\\n",
       "22        658672302  458672302            306000000.0   \n",
       "\n",
       "    Box Office After Inflation  Net Gross After Inflation  Gross Ratio  \\\n",
       "22                1.007769e+09               7.017686e+08     3.293362   \n",
       "\n",
       "    Profit Class  \n",
       "22           3.0  \n",
       "\n",
       "[1 rows x 24 columns]"
      ]
     },
     "execution_count": 97,
     "metadata": {},
     "output_type": "execute_result"
    }
   ],
   "source": [
    "df.loc[df['title']=='Titanic']"
   ]
  },
  {
   "cell_type": "code",
   "execution_count": null,
   "metadata": {},
   "outputs": [],
   "source": []
  }
 ],
 "metadata": {
  "kernelspec": {
   "display_name": "Python 3",
   "language": "python",
   "name": "python3"
  },
  "language_info": {
   "codemirror_mode": {
    "name": "ipython",
    "version": 3
   },
   "file_extension": ".py",
   "mimetype": "text/x-python",
   "name": "python",
   "nbconvert_exporter": "python",
   "pygments_lexer": "ipython3",
   "version": "3.7.4"
  }
 },
 "nbformat": 4,
 "nbformat_minor": 2
}
